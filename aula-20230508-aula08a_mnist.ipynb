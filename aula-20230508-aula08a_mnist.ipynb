{
  "cells": [
    {
      "cell_type": "markdown",
      "metadata": {
        "colab_type": "text",
        "id": "view-in-github"
      },
      "source": [
        "<a href=\"https://colab.research.google.com/github/fboldt/aulasann/blob/main/aula08a_mnist.ipynb\" target=\"_parent\"><img src=\"https://colab.research.google.com/assets/colab-badge.svg\" alt=\"Open In Colab\"/></a>"
      ]
    },
    {
      "cell_type": "code",
      "execution_count": 24,
      "metadata": {
        "id": "N6IiWnrybXpr"
      },
      "outputs": [],
      "source": [
        "from keras.datasets import mnist\n",
        "(train_images, train_labels), (test_images, test_labels) = mnist.load_data()"
      ]
    },
    {
      "cell_type": "code",
      "execution_count": 25,
      "metadata": {
        "colab": {
          "base_uri": "https://localhost:8080/"
        },
        "id": "Gcqlvdpgfj6T",
        "outputId": "eaec5771-ede4-4b1f-f451-0dbe2a8c50b9"
      },
      "outputs": [
        {
          "data": {
            "text/plain": [
              "((60000, 28, 28), 60000, array([5, 0, 4, ..., 5, 6, 8], dtype=uint8))"
            ]
          },
          "execution_count": 25,
          "metadata": {},
          "output_type": "execute_result"
        }
      ],
      "source": [
        "train_images.shape, len(train_labels), train_labels"
      ]
    },
    {
      "cell_type": "code",
      "execution_count": 26,
      "metadata": {
        "colab": {
          "base_uri": "https://localhost:8080/",
          "height": 430
        },
        "id": "t0sSA-3PgPq-",
        "outputId": "9f6364c5-6f64-47e0-b9ad-a53660a00aa0"
      },
      "outputs": [
        {
          "data": {
            "image/png": "[encoded data removed]",
            "text/plain": [
              "<Figure size 640x480 with 1 Axes>"
            ]
          },
          "metadata": {},
          "output_type": "display_data"
        }
      ],
      "source": [
        "import matplotlib.pyplot as plt\n",
        "%matplotlib inline\n",
        "\n",
        "plt.imshow(train_images[0], cmap='gray')\n",
        "plt.show()"
      ]
    },
    {
      "cell_type": "code",
      "execution_count": 27,
      "metadata": {
        "colab": {
          "base_uri": "https://localhost:8080/"
        },
        "id": "PJ8PpU2FfoT2",
        "outputId": "a087fb08-a932-43e3-d859-709993dd6659"
      },
      "outputs": [
        {
          "data": {
            "text/plain": [
              "((10000, 28, 28), 10000, array([7, 2, 1, ..., 4, 5, 6], dtype=uint8))"
            ]
          },
          "execution_count": 27,
          "metadata": {},
          "output_type": "execute_result"
        }
      ],
      "source": [
        "test_images.shape, len(test_labels), test_labels"
      ]
    },
    {
      "cell_type": "code",
      "execution_count": 28,
      "metadata": {
        "id": "ahDOnrzvf0PV"
      },
      "outputs": [],
      "source": [
        "from tensorflow import keras\n",
        "from keras import layers\n",
        "model = keras.Sequential([\n",
        "    layers.Dense(512, activation=\"relu\"),\n",
        "    layers.Dense(10, activation=\"softmax\")\n",
        "])"
      ]
    },
    {
      "cell_type": "code",
      "execution_count": 29,
      "metadata": {
        "id": "XkggT9gIiFg7"
      },
      "outputs": [],
      "source": [
        "model.compile(optimizer=\"rmsprop\",\n",
        "              loss=\"sparse_categorical_crossentropy\",\n",
        "              metrics=[\"accuracy\"])"
      ]
    },
    {
      "cell_type": "code",
      "execution_count": 30,
      "metadata": {
        "id": "oGlkliSUi7ot"
      },
      "outputs": [],
      "source": [
        "train_images = train_images.reshape((60000, 28 * 28))\n",
        "train_images = train_images.astype(\"float32\") / 255\n",
        "test_images = test_images.reshape((10000, 28 * 28))\n",
        "test_images = test_images.astype(\"float32\") / 255"
      ]
    },
    {
      "cell_type": "code",
      "execution_count": 31,
      "metadata": {
        "colab": {
          "base_uri": "https://localhost:8080/"
        },
        "id": "M555L5eDkRTf",
        "outputId": "ca320a12-d961-490f-a7fc-bcc0d4cb47d4"
      },
      "outputs": [
        {
          "data": {
            "text/plain": [
              "(((60000, 784), array([5, 0, 4, ..., 5, 6, 8], dtype=uint8)),\n",
              " ((10000, 784), array([7, 2, 1, ..., 4, 5, 6], dtype=uint8)))"
            ]
          },
          "execution_count": 31,
          "metadata": {},
          "output_type": "execute_result"
        }
      ],
      "source": [
        "(train_images.shape, train_labels), (test_images.shape, test_labels)"
      ]
    },
    {
      "cell_type": "code",
      "execution_count": 32,
      "metadata": {
        "colab": {
          "base_uri": "https://localhost:8080/"
        },
        "id": "fLTBB7dEkX7R",
        "outputId": "2bbcceb3-7deb-4e93-a875-2023727647c4"
      },
      "outputs": [
        {
          "name": "stdout",
          "output_type": "stream",
          "text": [
            "Epoch 1/5\n",
            "469/469 [==============================] - 3s 5ms/step - loss: 0.2588 - accuracy: 0.9261\n",
            "Epoch 2/5\n",
            "469/469 [==============================] - 2s 5ms/step - loss: 0.1063 - accuracy: 0.9690\n",
            "Epoch 3/5\n",
            "469/469 [==============================] - 3s 5ms/step - loss: 0.0697 - accuracy: 0.9791\n",
            "Epoch 4/5\n",
            "469/469 [==============================] - 2s 5ms/step - loss: 0.0510 - accuracy: 0.9850\n",
            "Epoch 5/5\n",
            "469/469 [==============================] - 3s 5ms/step - loss: 0.0380 - accuracy: 0.9890\n"
          ]
        },
        {
          "data": {
            "text/plain": [
              "<keras.callbacks.History at 0x1d03cc9e0b0>"
            ]
          },
          "execution_count": 32,
          "metadata": {},
          "output_type": "execute_result"
        }
      ],
      "source": [
        "model.fit(train_images, train_labels, epochs=5, batch_size=128)"
      ]
    },
    {
      "cell_type": "code",
      "execution_count": 33,
      "metadata": {
        "colab": {
          "base_uri": "https://localhost:8080/"
        },
        "id": "KLFJzUn5k15k",
        "outputId": "b4b3ac8a-ebd6-42b3-f822-e449dbbb5ab0"
      },
      "outputs": [
        {
          "name": "stdout",
          "output_type": "stream",
          "text": [
            "1/1 [==============================] - 0s 49ms/step\n"
          ]
        },
        {
          "data": {
            "text/plain": [
              "array([1.2623558e-07, 2.4960499e-08, 4.5566132e-05, 9.2926319e-04,\n",
              "       1.4257902e-10, 1.5125836e-07, 3.9814853e-12, 9.9902070e-01,\n",
              "       1.4566469e-06, 2.6700191e-06], dtype=float32)"
            ]
          },
          "execution_count": 33,
          "metadata": {},
          "output_type": "execute_result"
        }
      ],
      "source": [
        "predicted = model.predict(test_images[0:1])\n",
        "predicted[0]"
      ]
    },
    {
      "cell_type": "code",
      "execution_count": 34,
      "metadata": {
        "colab": {
          "base_uri": "https://localhost:8080/"
        },
        "id": "qktJXuz4lI0h",
        "outputId": "806555ed-ef44-46ad-e820-5f6568a65008"
      },
      "outputs": [
        {
          "data": {
            "text/plain": [
              "7"
            ]
          },
          "execution_count": 34,
          "metadata": {},
          "output_type": "execute_result"
        }
      ],
      "source": [
        "predicted[0].argmax()"
      ]
    },
    {
      "cell_type": "code",
      "execution_count": 35,
      "metadata": {
        "colab": {
          "base_uri": "https://localhost:8080/"
        },
        "id": "5OFbgBU2lXEh",
        "outputId": "86028403-429b-4119-c758-ff2c317af4d4"
      },
      "outputs": [
        {
          "data": {
            "text/plain": [
              "0.9990207"
            ]
          },
          "execution_count": 35,
          "metadata": {},
          "output_type": "execute_result"
        }
      ],
      "source": [
        "predicted[0][7]"
      ]
    },
    {
      "cell_type": "code",
      "execution_count": 36,
      "metadata": {
        "colab": {
          "base_uri": "https://localhost:8080/"
        },
        "id": "WqkI15rKli40",
        "outputId": "f984af59-c1e6-4c65-b460-253d577b4e94"
      },
      "outputs": [
        {
          "data": {
            "text/plain": [
              "7"
            ]
          },
          "execution_count": 36,
          "metadata": {},
          "output_type": "execute_result"
        }
      ],
      "source": [
        "test_labels[0]"
      ]
    },
    {
      "cell_type": "code",
      "execution_count": 37,
      "metadata": {
        "colab": {
          "base_uri": "https://localhost:8080/"
        },
        "id": "BdP49CnTlnff",
        "outputId": "db757186-13c8-4b0d-bf45-32117470c34d"
      },
      "outputs": [
        {
          "name": "stdout",
          "output_type": "stream",
          "text": [
            "313/313 [==============================] - 0s 1ms/step - loss: 0.0725 - accuracy: 0.9771\n",
            "test_acc: 0.9771000146865845\n"
          ]
        }
      ],
      "source": [
        "test_loss, test_acc = model.evaluate(test_images, test_labels)\n",
        "print(f\"test_acc: {test_acc}\")"
      ]
    },
    {
      "cell_type": "code",
      "execution_count": 38,
      "metadata": {
        "id": "p1wYjLX_ptkS"
      },
      "outputs": [],
      "source": [
        "from keras.utils import to_categorical\n",
        "train_labels_hot = to_categorical(train_labels)\n",
        "test_labels_hot = to_categorical(test_labels)"
      ]
    },
    {
      "cell_type": "code",
      "execution_count": 39,
      "metadata": {
        "colab": {
          "base_uri": "https://localhost:8080/"
        },
        "id": "g0GlrfoVmDPy",
        "outputId": "381cb585-afdb-4a7e-858a-ea0088bc4833"
      },
      "outputs": [
        {
          "name": "stdout",
          "output_type": "stream",
          "text": [
            "Epoch 1/5\n",
            "469/469 [==============================] - 3s 6ms/step - loss: 0.2619 - accuracy: 0.9248\n",
            "Epoch 2/5\n",
            "469/469 [==============================] - 3s 5ms/step - loss: 0.1069 - accuracy: 0.9689\n",
            "Epoch 3/5\n",
            "469/469 [==============================] - 3s 5ms/step - loss: 0.0708 - accuracy: 0.9793\n",
            "Epoch 4/5\n",
            "469/469 [==============================] - 3s 5ms/step - loss: 0.0509 - accuracy: 0.9846\n",
            "Epoch 5/5\n",
            "469/469 [==============================] - 2s 5ms/step - loss: 0.0381 - accuracy: 0.9886\n",
            "313/313 [==============================] - 0s 1ms/step\n"
          ]
        },
        {
          "data": {
            "text/plain": [
              "0.98"
            ]
          },
          "execution_count": 39,
          "metadata": {},
          "output_type": "execute_result"
        }
      ],
      "source": [
        "from keras.utils.sidecar_evaluator import optimizer\n",
        "from prompt_toolkit.shortcuts.progress_bar.base import E\n",
        "from sklearn.base import BaseEstimator, ClassifierMixin\n",
        "from tensorflow import keras\n",
        "from keras import layers\n",
        "from sklearn.metrics import accuracy_score\n",
        "import numpy as np\n",
        "\n",
        "class RedeNeural(BaseEstimator, ClassifierMixin):\n",
        "  def __init__(self, epochs=5, batch_size=128):\n",
        "    self.epochs = epochs\n",
        "    self.batch_size = batch_size\n",
        "  def fit(self, X, y):\n",
        "    self.model = keras.Sequential([\n",
        "        layers.Dense(512, activation=\"relu\"),\n",
        "        layers.Dense(y.shape[1], activation=\"softmax\")\n",
        "    ])\n",
        "    self.model.compile(optimizer=\"rmsprop\",\n",
        "                       loss=\"categorical_crossentropy\",\n",
        "                       metrics=[\"accuracy\"])\n",
        "    self.model.fit(X, y, epochs=self.epochs, batch_size=self.batch_size)\n",
        "    return self\n",
        "  def predict(self, X, y=None):\n",
        "    probabilities = self.model.predict(X)\n",
        "    return np.array([(a == np.max(a)) for a in probabilities])\n",
        "\n",
        "modelo = RedeNeural()\n",
        "modelo.fit(train_images, train_labels_hot)\n",
        "ypred = modelo.predict(test_images)\n",
        "accuracy_score(test_labels_hot, ypred)"
      ]
    },
    {
      "cell_type": "code",
      "execution_count": 40,
      "metadata": {
        "colab": {
          "base_uri": "https://localhost:8080/"
        },
        "id": "biZxY9y-tvsu",
        "outputId": "32431b06-63b5-45d8-fc9e-4385c73b6346"
      },
      "outputs": [
        {
          "name": "stdout",
          "output_type": "stream",
          "text": [
            "Epoch 1/5\n",
            "469/469 [==============================] - 3s 5ms/step - loss: 0.2647 - accuracy: 0.9241\n",
            "Epoch 2/5\n",
            "469/469 [==============================] - 3s 6ms/step - loss: 0.1069 - accuracy: 0.9688\n",
            "Epoch 3/5\n",
            "469/469 [==============================] - 3s 7ms/step - loss: 0.0709 - accuracy: 0.9791\n",
            "Epoch 4/5\n",
            "469/469 [==============================] - 3s 6ms/step - loss: 0.0510 - accuracy: 0.9845\n",
            "Epoch 5/5\n",
            "469/469 [==============================] - 3s 5ms/step - loss: 0.0386 - accuracy: 0.9882\n",
            "313/313 [==============================] - 0s 1ms/step\n"
          ]
        },
        {
          "data": {
            "text/plain": [
              "0.9789"
            ]
          },
          "execution_count": 40,
          "metadata": {},
          "output_type": "execute_result"
        }
      ],
      "source": [
        "from keras.utils.sidecar_evaluator import optimizer\n",
        "from prompt_toolkit.shortcuts.progress_bar.base import E\n",
        "from sklearn.base import BaseEstimator, ClassifierMixin\n",
        "from tensorflow import keras\n",
        "from keras import layers\n",
        "from sklearn.metrics import accuracy_score\n",
        "import numpy as np\n",
        "\n",
        "class RedeNeural(BaseEstimator, ClassifierMixin):\n",
        "  def __init__(self, epochs=5, batch_size=128):\n",
        "    self.epochs = epochs\n",
        "    self.batch_size = batch_size\n",
        "\n",
        "  def fit(self, X, y):\n",
        "    self.labels, ids = np.unique(y, return_inverse=True)\n",
        "    yhot = keras.utils.to_categorical(ids)\n",
        "    self.model = keras.Sequential([\n",
        "        layers.Dense(512, activation=\"relu\"),\n",
        "        layers.Dense(yhot.shape[1], activation=\"softmax\")\n",
        "    ])\n",
        "    self.model.compile(optimizer=\"rmsprop\",\n",
        "                       loss=\"categorical_crossentropy\",\n",
        "                       metrics=[\"accuracy\"])\n",
        "    self.model.fit(X, yhot, epochs=self.epochs, batch_size=self.batch_size)\n",
        "    return self\n",
        "\n",
        "  def predict(self, X, y=None):\n",
        "    probabilities = self.model.predict(X)\n",
        "    ypred = self.labels[np.argmax(probabilities, axis=1)]\n",
        "    return ypred\n",
        "\n",
        "modelo = RedeNeural()\n",
        "modelo.fit(train_images, train_labels)\n",
        "ypred = modelo.predict(test_images)\n",
        "accuracy_score(test_labels, ypred)"
      ]
    },
    {
      "cell_type": "code",
      "execution_count": 41,
      "metadata": {
        "id": "5yojlp9iu-Pv"
      },
      "outputs": [],
      "source": [
        "from keras.datasets import mnist\n",
        "(train_images, train_labels), (test_images, test_labels) = mnist.load_data()"
      ]
    },
    {
      "cell_type": "code",
      "execution_count": 42,
      "metadata": {
        "id": "UyHTc6_-vP5J"
      },
      "outputs": [],
      "source": [
        "train_images = train_images.reshape((60000, 28 * 28))\n",
        "test_images = test_images.reshape((10000, 28 * 28))"
      ]
    },
    {
      "cell_type": "code",
      "execution_count": 43,
      "metadata": {
        "colab": {
          "base_uri": "https://localhost:8080/"
        },
        "id": "MZmjfs0evAvR",
        "outputId": "e398c2aa-51b2-4b3f-fa69-3a613882b316"
      },
      "outputs": [
        {
          "name": "stdout",
          "output_type": "stream",
          "text": [
            "Epoch 1/5\n",
            "469/469 [==============================] - 3s 6ms/step - loss: 0.2636 - accuracy: 0.9237\n",
            "Epoch 2/5\n",
            "469/469 [==============================] - 3s 6ms/step - loss: 0.1053 - accuracy: 0.9690\n",
            "Epoch 3/5\n",
            "469/469 [==============================] - 3s 6ms/step - loss: 0.0698 - accuracy: 0.9796\n",
            "Epoch 4/5\n",
            "469/469 [==============================] - 2s 5ms/step - loss: 0.0502 - accuracy: 0.9850\n",
            "Epoch 5/5\n",
            "469/469 [==============================] - 2s 5ms/step - loss: 0.0375 - accuracy: 0.9887\n",
            "313/313 [==============================] - 0s 1ms/step\n"
          ]
        },
        {
          "data": {
            "text/plain": [
              "0.9787"
            ]
          },
          "execution_count": 43,
          "metadata": {},
          "output_type": "execute_result"
        }
      ],
      "source": [
        "from sklearn.pipeline import Pipeline\n",
        "from sklearn.preprocessing import MinMaxScaler\n",
        "\n",
        "modelo = Pipeline([\n",
        "    (\"scaler\", MinMaxScaler()), \n",
        "    (\"ann\", RedeNeural())\n",
        "])\n",
        "modelo.fit(train_images, train_labels)\n",
        "ypred = modelo.predict(test_images)\n",
        "accuracy_score(test_labels, ypred)"
      ]
    },
    {
      "cell_type": "code",
      "execution_count": 44,
      "metadata": {
        "colab": {
          "base_uri": "https://localhost:8080/"
        },
        "id": "H4orTgf1yoJL",
        "outputId": "059358c7-ebd2-4eee-b627-a0fe7845ca4f"
      },
      "outputs": [
        {
          "name": "stdout",
          "output_type": "stream",
          "text": [
            "Epoch 1/5\n",
            "469/469 [==============================] - 3s 6ms/step - loss: 0.2633 - accuracy: 0.9243\n",
            "Epoch 2/5\n",
            "469/469 [==============================] - 3s 5ms/step - loss: 0.1077 - accuracy: 0.9680\n",
            "Epoch 3/5\n",
            "469/469 [==============================] - 3s 6ms/step - loss: 0.0702 - accuracy: 0.9791\n",
            "Epoch 4/5\n",
            "469/469 [==============================] - 3s 6ms/step - loss: 0.0504 - accuracy: 0.9851\n",
            "Epoch 5/5\n",
            "469/469 [==============================] - 3s 6ms/step - loss: 0.0379 - accuracy: 0.9887\n",
            "313/313 [==============================] - 0s 1ms/step\n"
          ]
        },
        {
          "data": {
            "text/plain": [
              "0.9796"
            ]
          },
          "execution_count": 44,
          "metadata": {},
          "output_type": "execute_result"
        }
      ],
      "source": [
        "from sklearn.base import BaseEstimator, TransformerMixin\n",
        "\n",
        "class DividePor255(BaseEstimator, TransformerMixin):\n",
        "  def fit(self, X, y):\n",
        "    return self\n",
        "  def transform(self, X, y=None):\n",
        "    return X.astype(\"float32\") / 255\n",
        "\n",
        "from sklearn.pipeline import Pipeline\n",
        "\n",
        "modelo = Pipeline([\n",
        "    (\"scaler\", DividePor255()), \n",
        "    (\"ann\", RedeNeural())\n",
        "])\n",
        "modelo.fit(train_images, train_labels)\n",
        "ypred = modelo.predict(test_images)\n",
        "accuracy_score(test_labels, ypred)"
      ]
    },
    {
      "cell_type": "code",
      "execution_count": 45,
      "metadata": {
        "id": "ithmDGLSz9fj"
      },
      "outputs": [],
      "source": [
        "from keras.datasets import mnist\n",
        "(train_images, train_labels), (test_images, test_labels) = mnist.load_data()"
      ]
    },
    {
      "cell_type": "code",
      "execution_count": 46,
      "metadata": {
        "colab": {
          "base_uri": "https://localhost:8080/"
        },
        "id": "l6Jp9PoTzqgd",
        "outputId": "50e85f0f-954c-44bb-a0cf-e12a595a5800"
      },
      "outputs": [
        {
          "name": "stdout",
          "output_type": "stream",
          "text": [
            "Epoch 1/5\n",
            "469/469 [==============================] - 8s 15ms/step - loss: 0.2199 - accuracy: 0.9330\n",
            "Epoch 2/5\n",
            "469/469 [==============================] - 7s 16ms/step - loss: 0.0742 - accuracy: 0.9770\n",
            "Epoch 3/5\n",
            "469/469 [==============================] - 7s 16ms/step - loss: 0.0433 - accuracy: 0.9864\n",
            "Epoch 4/5\n",
            "469/469 [==============================] - 7s 15ms/step - loss: 0.0283 - accuracy: 0.9912\n",
            "Epoch 5/5\n",
            "469/469 [==============================] - 7s 15ms/step - loss: 0.0174 - accuracy: 0.9946\n",
            "313/313 [==============================] - 1s 3ms/step\n"
          ]
        },
        {
          "data": {
            "text/plain": [
              "0.9853"
            ]
          },
          "execution_count": 46,
          "metadata": {},
          "output_type": "execute_result"
        }
      ],
      "source": [
        "from keras.utils.sidecar_evaluator import optimizer\n",
        "from prompt_toolkit.shortcuts.progress_bar.base import E\n",
        "from sklearn.base import BaseEstimator, ClassifierMixin\n",
        "from tensorflow import keras\n",
        "from keras import layers\n",
        "from sklearn.metrics import accuracy_score\n",
        "import numpy as np\n",
        "\n",
        "class RedeNeural(BaseEstimator, ClassifierMixin):\n",
        "  def __init__(self, epochs=5, batch_size=128):\n",
        "    self.epochs = epochs\n",
        "    self.batch_size = batch_size\n",
        "\n",
        "  def fit(self, X, y):\n",
        "    self.labels, ids = np.unique(y, return_inverse=True)\n",
        "    yhot = keras.utils.to_categorical(ids)\n",
        "    self.model = keras.Sequential([\n",
        "        layers.Conv2D(4, 4, activation='relu'),\n",
        "        layers.Flatten(),\n",
        "        layers.Dense(512, activation=\"relu\"),\n",
        "        layers.Dense(yhot.shape[1], activation=\"softmax\")\n",
        "    ])\n",
        "    self.model.compile(optimizer=\"rmsprop\",\n",
        "                       loss=\"categorical_crossentropy\",\n",
        "                       metrics=[\"accuracy\"])\n",
        "    self.model.fit(X, yhot, epochs=self.epochs, batch_size=self.batch_size)\n",
        "    return self\n",
        "\n",
        "  def predict(self, X, y=None):\n",
        "    probabilities = self.model.predict(X)\n",
        "    ypred = self.labels[np.argmax(probabilities, axis=1)]\n",
        "    return ypred\n",
        "\n",
        "class MudaShape(BaseEstimator, TransformerMixin):\n",
        "  def fit(self, X, y):\n",
        "    return self\n",
        "  def transform(self, X, y=None):\n",
        "    return X.reshape((-1,28,28,1))\n",
        "\n",
        "modelo = Pipeline([\n",
        "    (\"scaler\", DividePor255()), \n",
        "    (\"reshape\", MudaShape()), \n",
        "    (\"ann\", RedeNeural())\n",
        "])\n",
        "modelo.fit(train_images, train_labels)\n",
        "ypred = modelo.predict(test_images)\n",
        "accuracy_score(test_labels, ypred)"
      ]
    },
    {
      "cell_type": "code",
      "execution_count": 58,
      "metadata": {},
      "outputs": [],
      "source": [
        "import wget\n",
        "import gzip\n",
        "import os\n",
        "\n",
        "# URL do arquivo zip\n",
        "url = \"https://github.com/myleott/mnist_png/raw/master/mnist_png.tar.gz\"\n",
        "\n",
        "# Caminho onde o arquivo zip será baixado\n",
        "download_path = \"mnist_png.tar.gz\"\n",
        "\n",
        "# Baixa o arquivo zip\n",
        "#wget.download(url, download_path)\n",
        "\n",
        "#unzip na mão (não consegui extrair usando o gzip daqui :())\n",
        "\n",
        "# Remove o arquivo zip\n",
        "#os.remove(download_path)\n",
        "\n",
        "# Agora o diretório \"mnist_png\" deve conter as pastas \"testing\" e \"training\" com as imagens PNG do MNIST"
      ]
    },
    {
      "cell_type": "code",
      "execution_count": 65,
      "metadata": {},
      "outputs": [],
      "source": [
        "import os\n",
        "import numpy as np\n",
        "from PIL import Image\n",
        "\n",
        "def load_mnist(path, kind='train'):\n",
        "    \"\"\"Carrega os dados do MNIST do caminho especificado\"\"\"\n",
        "    labels_path = os.path.join(path, f'{kind}-labels.idx1-ubyte')\n",
        "    images_path = os.path.join(path, f'{kind}-images.idx3-ubyte')\n",
        "    with open(labels_path, 'rb') as lbpath:\n",
        "        labels = np.frombuffer(lbpath.read(), dtype=np.uint8, offset=8)\n",
        "    with open(images_path, 'rb') as imgpath:\n",
        "        images = np.frombuffer(imgpath.read(), dtype=np.uint8, offset=16).reshape(len(labels), 784)\n",
        "    return images, labels\n",
        "\n",
        "# Carrega os dados do MNIST\n",
        "X_train, y_train = load_mnist('mnist', 'train')\n",
        "X_test, y_test = load_mnist('mnist', 't10k')\n",
        "\n",
        "# Normaliza os valores de pixel para o intervalo [0, 1]\n",
        "X_train = X_train / 255.0\n",
        "X_test = X_test / 255.0\n",
        "\n",
        "# Divisão dos dados em conjunto de validação e treinamento\n",
        "X_val, y_val = X_train[-10000:], y_train[-10000:]\n",
        "X_train, y_train = X_train[:-10000], y_train[:-10000]\n"
      ]
    },
    {
      "cell_type": "code",
      "execution_count": 66,
      "metadata": {},
      "outputs": [
        {
          "name": "stdout",
          "output_type": "stream",
          "text": [
            "Epoch 1/5\n",
            "391/391 [==============================] - 7s 16ms/step - loss: 1.6065 - accuracy: 0.5343\n",
            "Epoch 2/5\n",
            "391/391 [==============================] - 7s 17ms/step - loss: 0.4777 - accuracy: 0.8619\n",
            "Epoch 3/5\n",
            "391/391 [==============================] - 7s 19ms/step - loss: 0.3456 - accuracy: 0.8991\n",
            "Epoch 4/5\n",
            "391/391 [==============================] - 7s 19ms/step - loss: 0.2850 - accuracy: 0.9159\n",
            "Epoch 5/5\n",
            "391/391 [==============================] - 7s 18ms/step - loss: 0.2367 - accuracy: 0.9292\n",
            "313/313 [==============================] - 1s 4ms/step\n"
          ]
        },
        {
          "data": {
            "text/plain": [
              "0.9403"
            ]
          },
          "execution_count": 66,
          "metadata": {},
          "output_type": "execute_result"
        }
      ],
      "source": [
        "modelo = Pipeline([\n",
        "    (\"scaler\", DividePor255()), \n",
        "    (\"reshape\", MudaShape()), \n",
        "    (\"ann\", RedeNeural())\n",
        "])\n",
        "modelo.fit(X_train, y_train)\n",
        "ypred = modelo.predict(X_test)\n",
        "accuracy_score(y_test, ypred)"
      ]
    }
  ],
  "metadata": {
    "colab": {
      "authorship_tag": "ABX9TyPN4Zeq7DLhcjs3RL3FeoMZ",
      "include_colab_link": true,
      "provenance": []
    },
    "kernelspec": {
      "display_name": "Python 3",
      "name": "python3"
    },
    "language_info": {
      "codemirror_mode": {
        "name": "ipython",
        "version": 3
      },
      "file_extension": ".py",
      "mimetype": "text/x-python",
      "name": "python",
      "nbconvert_exporter": "python",
      "pygments_lexer": "ipython3",
      "version": "3.10.11"
    }
  },
  "nbformat": 4,
  "nbformat_minor": 0
}
