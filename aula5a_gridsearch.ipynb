{
  "nbformat": 4,
  "nbformat_minor": 0,
  "metadata": {
    "colab": {
      "provenance": [],
      "include_colab_link": true
    },
    "kernelspec": {
      "name": "python3",
      "display_name": "Python 3"
    },
    "language_info": {
      "name": "python"
    }
  },
  "cells": [
    {
      "cell_type": "markdown",
      "metadata": {
        "id": "view-in-github",
        "colab_type": "text"
      },
      "source": [
        "<a href=\"https://colab.research.google.com/github/tbrocco/mestrado/blob/main/aula5a_gridsearch.ipynb\" target=\"_parent\"><img src=\"https://colab.research.google.com/assets/colab-badge.svg\" alt=\"Open In Colab\"/></a>"
      ]
    },
    {
      "cell_type": "code",
      "source": [
        "import numpy as np\n",
        "from sklearn.datasets import load_iris, load_digits\n",
        "from sklearn.model_selection import GridSearchCV, cross_val_score, KFold, StratifiedKFold\n",
        "from sklearn.pipeline import Pipeline\n",
        "from sklearn.preprocessing import StandardScaler\n",
        "from sklearn.svm import SVC\n",
        "from sklearn.ensemble import RandomForestClassifier\n",
        "\n",
        "datasets = [load_iris(), load_digits()]\n",
        "\n",
        "best_configs = []\n",
        "\n",
        "for data in datasets:\n",
        "    X, y = data.data, data.target\n",
        "\n",
        "    # estimadores e os hiperparâmetros\n",
        "    estimators = [\n",
        "        ('SVM', SVC(), {'SVM__C': [0.1, 1.0, 10.0]}),\n",
        "        ('RandomForest', RandomForestClassifier(), {'RandomForest__n_estimators': [10, 50, 100]})\n",
        "    ]\n",
        "\n",
        "    results = {}\n",
        "\n",
        "    for name, estimator, param_grid in estimators:\n",
        "        pipeline = Pipeline([\n",
        "            ('Scaler', StandardScaler()),\n",
        "            (name, estimator)\n",
        "        ])\n",
        "\n",
        "        inner_cv = KFold(n_splits=5, shuffle=True, random_state=42)  # Validação cruzada aninhada\n",
        "\n",
        "        grid_search = GridSearchCV(pipeline, param_grid=param_grid, cv=inner_cv)\n",
        "\n",
        "        # avlia o desempenho do modelo usando validação cruzada aninhada\n",
        "        grid_search.fit(X, y)\n",
        "\n",
        "        # obtem os melhores parâmetros e o melhor estimador\n",
        "        best_params = grid_search.best_params_\n",
        "        best_estimator = grid_search.best_estimator_\n",
        "\n",
        "        scores = cross_val_score(grid_search.best_estimator_, X, y, cv=StratifiedKFold(n_splits=5, shuffle=True, random_state=42), scoring='accuracy')\n",
        "\n",
        "        results[name] = (best_params, best_estimator, scores)\n",
        "\n",
        "    # Calcula a diferença entre as pontuações médias de treinamento e teste\n",
        "    differences = {name: np.mean(scores) for name, (_, _, scores) in results.items()}\n",
        "\n",
        "    best_estimator_name = max(differences, key=differences.get)\n",
        "    best_params, best_estimator, _ = results[best_estimator_name]\n",
        "    best_configs.append((data, best_estimator_name, differences[best_estimator_name], best_params, best_estimator))\n",
        "\n",
        "\n"
      ],
      "metadata": {
        "id": "FS1SoOLXHUTu"
      },
      "execution_count": 2,
      "outputs": []
    },
    {
      "cell_type": "code",
      "source": [
        "for dataset, best_estimator_name, difference, best_params, best_estimator in best_configs:\n",
        "    print(f\"Dataset: {dataset.DESCR.splitlines()[0]}\")\n",
        "    print(f\"Melhor Estimador: {best_estimator_name}\")\n",
        "    print(f\"Diferença: {difference:.4f}\")\n",
        "    print(f\"Melhores Parâmetros: {best_params}\")\n",
        "    print(f\"Melhor Estimador: {best_estimator}\\n\")"
      ],
      "metadata": {
        "id": "ZzRNijv4HW5E",
        "outputId": "635394eb-1c6e-4cc0-8b78-c6ef660be586",
        "colab": {
          "base_uri": "https://localhost:8080/"
        }
      },
      "execution_count": 3,
      "outputs": [
        {
          "output_type": "stream",
          "name": "stdout",
          "text": [
            "Dataset: .. _iris_dataset:\n",
            "Melhor Estimador: RandomForest\n",
            "Diferença: 0.9600\n",
            "Melhores Parâmetros: {'RandomForest__n_estimators': 50}\n",
            "Melhor Estimador: Pipeline(steps=[('Scaler', StandardScaler()),\n",
            "                ('RandomForest', RandomForestClassifier(n_estimators=50))])\n",
            "\n",
            "Dataset: .. _digits_dataset:\n",
            "Melhor Estimador: SVM\n",
            "Diferença: 0.9839\n",
            "Melhores Parâmetros: {'SVM__C': 10.0}\n",
            "Melhor Estimador: Pipeline(steps=[('Scaler', StandardScaler()), ('SVM', SVC(C=10.0))])\n",
            "\n"
          ]
        }
      ]
    }
  ]
}