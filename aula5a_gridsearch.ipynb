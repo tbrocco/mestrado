{
  "nbformat": 4,
  "nbformat_minor": 0,
  "metadata": {
    "colab": {
      "provenance": [],
      "include_colab_link": true
    },
    "kernelspec": {
      "name": "python3",
      "display_name": "Python 3"
    },
    "language_info": {
      "name": "python"
    }
  },
  "cells": [
    {
      "cell_type": "markdown",
      "metadata": {
        "id": "view-in-github",
        "colab_type": "text"
      },
      "source": [
        "<a href=\"https://colab.research.google.com/github/tbrocco/mestrado/blob/main/aula5a_gridsearch.ipynb\" target=\"_parent\"><img src=\"https://colab.research.google.com/assets/colab-badge.svg\" alt=\"Open In Colab\"/></a>"
      ]
    },
    {
      "cell_type": "code",
      "execution_count": null,
      "metadata": {
        "colab": {
          "base_uri": "https://localhost:8080/"
        },
        "id": "AyN2WQKJbptW",
        "outputId": "4660816d-684d-45e5-dbc7-cc9ccf72880b"
      },
      "outputs": [
        {
          "output_type": "execute_result",
          "data": {
            "text/plain": [
              "((20640, 8), (20640,))"
            ]
          },
          "metadata": {},
          "execution_count": 1
        }
      ],
      "source": [
        "from sklearn.datasets import fetch_california_housing\n",
        "X, y = fetch_california_housing(return_X_y=True)\n",
        "X.shape, y.shape"
      ]
    },
    {
      "cell_type": "code",
      "source": [
        "from sklearn.model_selection import train_test_split\n",
        "\n",
        "Xtr, Xte, ytr, yte = train_test_split(X, y)\n",
        "Xtr.shape, ytr.shape, Xte.shape, yte.shape"
      ],
      "metadata": {
        "colab": {
          "base_uri": "https://localhost:8080/"
        },
        "id": "2n8w4APXwKhW",
        "outputId": "d0de3ab1-174b-4c80-d2af-a14d5a2bba86"
      },
      "execution_count": null,
      "outputs": [
        {
          "output_type": "execute_result",
          "data": {
            "text/plain": [
              "((15480, 8), (15480,), (5160, 8), (5160,))"
            ]
          },
          "metadata": {},
          "execution_count": 2
        }
      ]
    },
    {
      "cell_type": "code",
      "source": [
        "from sklearn.metrics import mean_squared_error, make_scorer\n",
        "from sklearn.model_selection import cross_validate, RepeatedKFold\n",
        "from sklearn.neighbors import KNeighborsRegressor\n",
        "import numpy as np\n",
        "\n",
        "modeloKnn = KNeighborsRegressor()\n",
        "scores = cross_validate(modeloKnn, Xtr, ytr, cv=RepeatedKFold(random_state=42),\n",
        "                        scoring=make_scorer(mean_squared_error, squared=False))\n",
        "np.mean(scores['test_score'])"
      ],
      "metadata": {
        "colab": {
          "base_uri": "https://localhost:8080/"
        },
        "id": "ZKSrexSdfkkq",
        "outputId": "8c890ec4-d8d4-4a2a-9894-dd67f69c7fe5"
      },
      "execution_count": null,
      "outputs": [
        {
          "output_type": "execute_result",
          "data": {
            "text/plain": [
              "1.0900135807393634"
            ]
          },
          "metadata": {},
          "execution_count": 3
        }
      ]
    },
    {
      "cell_type": "code",
      "source": [
        "from sklearn.model_selection import GridSearchCV\n",
        "\n",
        "param = {'n_neighbors': [1, 7, 15]}\n",
        "\n",
        "modeloGS15 = GridSearchCV(KNeighborsRegressor(), param, verbose=3,\n",
        "                      scoring=make_scorer(mean_squared_error,\n",
        "                                          greater_is_better=False,\n",
        "                                          squared=False))\n",
        "modeloGS15.fit(X, y)"
      ],
      "metadata": {
        "colab": {
          "base_uri": "https://localhost:8080/",
          "height": 402
        },
        "id": "6tH8VutwnsBf",
        "outputId": "454f4fd2-2b68-41e9-dfa3-73491d293d7a"
      },
      "execution_count": null,
      "outputs": [
        {
          "output_type": "stream",
          "name": "stdout",
          "text": [
            "Fitting 5 folds for each of 3 candidates, totalling 15 fits\n",
            "[CV 1/5] END ....................n_neighbors=1;, score=-1.289 total time=   0.1s\n",
            "[CV 2/5] END ....................n_neighbors=1;, score=-1.320 total time=   0.1s\n",
            "[CV 3/5] END ....................n_neighbors=1;, score=-1.346 total time=   0.1s\n",
            "[CV 4/5] END ....................n_neighbors=1;, score=-1.368 total time=   0.1s\n",
            "[CV 5/5] END ....................n_neighbors=1;, score=-1.361 total time=   0.1s\n",
            "[CV 1/5] END ....................n_neighbors=7;, score=-1.051 total time=   0.1s\n",
            "[CV 2/5] END ....................n_neighbors=7;, score=-1.025 total time=   0.1s\n",
            "[CV 3/5] END ....................n_neighbors=7;, score=-1.185 total time=   0.1s\n",
            "[CV 4/5] END ....................n_neighbors=7;, score=-1.096 total time=   0.1s\n",
            "[CV 5/5] END ....................n_neighbors=7;, score=-1.179 total time=   0.1s\n",
            "[CV 1/5] END ...................n_neighbors=15;, score=-1.057 total time=   0.1s\n",
            "[CV 2/5] END ...................n_neighbors=15;, score=-1.022 total time=   0.1s\n",
            "[CV 3/5] END ...................n_neighbors=15;, score=-1.193 total time=   0.1s\n",
            "[CV 4/5] END ...................n_neighbors=15;, score=-1.078 total time=   0.1s\n",
            "[CV 5/5] END ...................n_neighbors=15;, score=-1.173 total time=   0.1s\n"
          ]
        },
        {
          "output_type": "execute_result",
          "data": {
            "text/plain": [
              "GridSearchCV(estimator=KNeighborsRegressor(),\n",
              "             param_grid={'n_neighbors': [1, 7, 15]},\n",
              "             scoring=make_scorer(mean_squared_error, greater_is_better=False, squared=False),\n",
              "             verbose=3)"
            ],
            "text/html": [
              "<style>#sk-container-id-1 {color: black;background-color: white;}#sk-container-id-1 pre{padding: 0;}#sk-container-id-1 div.sk-toggleable {background-color: white;}#sk-container-id-1 label.sk-toggleable__label {cursor: pointer;display: block;width: 100%;margin-bottom: 0;padding: 0.3em;box-sizing: border-box;text-align: center;}#sk-container-id-1 label.sk-toggleable__label-arrow:before {content: \"▸\";float: left;margin-right: 0.25em;color: #696969;}#sk-container-id-1 label.sk-toggleable__label-arrow:hover:before {color: black;}#sk-container-id-1 div.sk-estimator:hover label.sk-toggleable__label-arrow:before {color: black;}#sk-container-id-1 div.sk-toggleable__content {max-height: 0;max-width: 0;overflow: hidden;text-align: left;background-color: #f0f8ff;}#sk-container-id-1 div.sk-toggleable__content pre {margin: 0.2em;color: black;border-radius: 0.25em;background-color: #f0f8ff;}#sk-container-id-1 input.sk-toggleable__control:checked~div.sk-toggleable__content {max-height: 200px;max-width: 100%;overflow: auto;}#sk-container-id-1 input.sk-toggleable__control:checked~label.sk-toggleable__label-arrow:before {content: \"▾\";}#sk-container-id-1 div.sk-estimator input.sk-toggleable__control:checked~label.sk-toggleable__label {background-color: #d4ebff;}#sk-container-id-1 div.sk-label input.sk-toggleable__control:checked~label.sk-toggleable__label {background-color: #d4ebff;}#sk-container-id-1 input.sk-hidden--visually {border: 0;clip: rect(1px 1px 1px 1px);clip: rect(1px, 1px, 1px, 1px);height: 1px;margin: -1px;overflow: hidden;padding: 0;position: absolute;width: 1px;}#sk-container-id-1 div.sk-estimator {font-family: monospace;background-color: #f0f8ff;border: 1px dotted black;border-radius: 0.25em;box-sizing: border-box;margin-bottom: 0.5em;}#sk-container-id-1 div.sk-estimator:hover {background-color: #d4ebff;}#sk-container-id-1 div.sk-parallel-item::after {content: \"\";width: 100%;border-bottom: 1px solid gray;flex-grow: 1;}#sk-container-id-1 div.sk-label:hover label.sk-toggleable__label {background-color: #d4ebff;}#sk-container-id-1 div.sk-serial::before {content: \"\";position: absolute;border-left: 1px solid gray;box-sizing: border-box;top: 0;bottom: 0;left: 50%;z-index: 0;}#sk-container-id-1 div.sk-serial {display: flex;flex-direction: column;align-items: center;background-color: white;padding-right: 0.2em;padding-left: 0.2em;position: relative;}#sk-container-id-1 div.sk-item {position: relative;z-index: 1;}#sk-container-id-1 div.sk-parallel {display: flex;align-items: stretch;justify-content: center;background-color: white;position: relative;}#sk-container-id-1 div.sk-item::before, #sk-container-id-1 div.sk-parallel-item::before {content: \"\";position: absolute;border-left: 1px solid gray;box-sizing: border-box;top: 0;bottom: 0;left: 50%;z-index: -1;}#sk-container-id-1 div.sk-parallel-item {display: flex;flex-direction: column;z-index: 1;position: relative;background-color: white;}#sk-container-id-1 div.sk-parallel-item:first-child::after {align-self: flex-end;width: 50%;}#sk-container-id-1 div.sk-parallel-item:last-child::after {align-self: flex-start;width: 50%;}#sk-container-id-1 div.sk-parallel-item:only-child::after {width: 0;}#sk-container-id-1 div.sk-dashed-wrapped {border: 1px dashed gray;margin: 0 0.4em 0.5em 0.4em;box-sizing: border-box;padding-bottom: 0.4em;background-color: white;}#sk-container-id-1 div.sk-label label {font-family: monospace;font-weight: bold;display: inline-block;line-height: 1.2em;}#sk-container-id-1 div.sk-label-container {text-align: center;}#sk-container-id-1 div.sk-container {/* jupyter's `normalize.less` sets `[hidden] { display: none; }` but bootstrap.min.css set `[hidden] { display: none !important; }` so we also need the `!important` here to be able to override the default hidden behavior on the sphinx rendered scikit-learn.org. See: https://github.com/scikit-learn/scikit-learn/issues/21755 */display: inline-block !important;position: relative;}#sk-container-id-1 div.sk-text-repr-fallback {display: none;}</style><div id=\"sk-container-id-1\" class=\"sk-top-container\"><div class=\"sk-text-repr-fallback\"><pre>GridSearchCV(estimator=KNeighborsRegressor(),\n",
              "             param_grid={&#x27;n_neighbors&#x27;: [1, 7, 15]},\n",
              "             scoring=make_scorer(mean_squared_error, greater_is_better=False, squared=False),\n",
              "             verbose=3)</pre><b>In a Jupyter environment, please rerun this cell to show the HTML representation or trust the notebook. <br />On GitHub, the HTML representation is unable to render, please try loading this page with nbviewer.org.</b></div><div class=\"sk-container\" hidden><div class=\"sk-item sk-dashed-wrapped\"><div class=\"sk-label-container\"><div class=\"sk-label sk-toggleable\"><input class=\"sk-toggleable__control sk-hidden--visually\" id=\"sk-estimator-id-1\" type=\"checkbox\" ><label for=\"sk-estimator-id-1\" class=\"sk-toggleable__label sk-toggleable__label-arrow\">GridSearchCV</label><div class=\"sk-toggleable__content\"><pre>GridSearchCV(estimator=KNeighborsRegressor(),\n",
              "             param_grid={&#x27;n_neighbors&#x27;: [1, 7, 15]},\n",
              "             scoring=make_scorer(mean_squared_error, greater_is_better=False, squared=False),\n",
              "             verbose=3)</pre></div></div></div><div class=\"sk-parallel\"><div class=\"sk-parallel-item\"><div class=\"sk-item\"><div class=\"sk-label-container\"><div class=\"sk-label sk-toggleable\"><input class=\"sk-toggleable__control sk-hidden--visually\" id=\"sk-estimator-id-2\" type=\"checkbox\" ><label for=\"sk-estimator-id-2\" class=\"sk-toggleable__label sk-toggleable__label-arrow\">estimator: KNeighborsRegressor</label><div class=\"sk-toggleable__content\"><pre>KNeighborsRegressor()</pre></div></div></div><div class=\"sk-serial\"><div class=\"sk-item\"><div class=\"sk-estimator sk-toggleable\"><input class=\"sk-toggleable__control sk-hidden--visually\" id=\"sk-estimator-id-3\" type=\"checkbox\" ><label for=\"sk-estimator-id-3\" class=\"sk-toggleable__label sk-toggleable__label-arrow\">KNeighborsRegressor</label><div class=\"sk-toggleable__content\"><pre>KNeighborsRegressor()</pre></div></div></div></div></div></div></div></div></div></div>"
            ]
          },
          "metadata": {},
          "execution_count": 4
        }
      ]
    },
    {
      "cell_type": "code",
      "source": [
        "modeloGS15.cv_results_"
      ],
      "metadata": {
        "colab": {
          "base_uri": "https://localhost:8080/"
        },
        "id": "UlYIxw46qvYE",
        "outputId": "9c6837c8-6bbe-4a0a-af6b-e0b6fc75ca73"
      },
      "execution_count": null,
      "outputs": [
        {
          "output_type": "execute_result",
          "data": {
            "text/plain": [
              "{'mean_fit_time': array([0.04077363, 0.03964405, 0.04180593]),\n",
              " 'std_fit_time': array([0.01435368, 0.01277171, 0.00803019]),\n",
              " 'mean_score_time': array([0.04337168, 0.05362043, 0.05748649]),\n",
              " 'std_score_time': array([0.01071568, 0.00594691, 0.00848746]),\n",
              " 'param_n_neighbors': masked_array(data=[1, 7, 15],\n",
              "              mask=[False, False, False],\n",
              "        fill_value='?',\n",
              "             dtype=object),\n",
              " 'params': [{'n_neighbors': 1}, {'n_neighbors': 7}, {'n_neighbors': 15}],\n",
              " 'split0_test_score': array([-1.2888153 , -1.05085651, -1.05711915]),\n",
              " 'split1_test_score': array([-1.31992069, -1.02501342, -1.02185401]),\n",
              " 'split2_test_score': array([-1.34589532, -1.18530073, -1.19333623]),\n",
              " 'split3_test_score': array([-1.36785546, -1.09626923, -1.0778111 ]),\n",
              " 'split4_test_score': array([-1.36076611, -1.1786578 , -1.17252695]),\n",
              " 'mean_test_score': array([-1.33665058, -1.10721954, -1.10452949]),\n",
              " 'std_test_score': array([0.02901335, 0.06519915, 0.06679392]),\n",
              " 'rank_test_score': array([3, 2, 1], dtype=int32)}"
            ]
          },
          "metadata": {},
          "execution_count": 5
        }
      ]
    },
    {
      "cell_type": "code",
      "source": [
        "modeloGS15.best_estimator_"
      ],
      "metadata": {
        "colab": {
          "base_uri": "https://localhost:8080/",
          "height": 74
        },
        "id": "HnBeAmqerDW2",
        "outputId": "9e4a7ced-0b9f-477b-b235-610738f6cbab"
      },
      "execution_count": null,
      "outputs": [
        {
          "output_type": "execute_result",
          "data": {
            "text/plain": [
              "KNeighborsRegressor(n_neighbors=15)"
            ],
            "text/html": [
              "<style>#sk-container-id-2 {color: black;background-color: white;}#sk-container-id-2 pre{padding: 0;}#sk-container-id-2 div.sk-toggleable {background-color: white;}#sk-container-id-2 label.sk-toggleable__label {cursor: pointer;display: block;width: 100%;margin-bottom: 0;padding: 0.3em;box-sizing: border-box;text-align: center;}#sk-container-id-2 label.sk-toggleable__label-arrow:before {content: \"▸\";float: left;margin-right: 0.25em;color: #696969;}#sk-container-id-2 label.sk-toggleable__label-arrow:hover:before {color: black;}#sk-container-id-2 div.sk-estimator:hover label.sk-toggleable__label-arrow:before {color: black;}#sk-container-id-2 div.sk-toggleable__content {max-height: 0;max-width: 0;overflow: hidden;text-align: left;background-color: #f0f8ff;}#sk-container-id-2 div.sk-toggleable__content pre {margin: 0.2em;color: black;border-radius: 0.25em;background-color: #f0f8ff;}#sk-container-id-2 input.sk-toggleable__control:checked~div.sk-toggleable__content {max-height: 200px;max-width: 100%;overflow: auto;}#sk-container-id-2 input.sk-toggleable__control:checked~label.sk-toggleable__label-arrow:before {content: \"▾\";}#sk-container-id-2 div.sk-estimator input.sk-toggleable__control:checked~label.sk-toggleable__label {background-color: #d4ebff;}#sk-container-id-2 div.sk-label input.sk-toggleable__control:checked~label.sk-toggleable__label {background-color: #d4ebff;}#sk-container-id-2 input.sk-hidden--visually {border: 0;clip: rect(1px 1px 1px 1px);clip: rect(1px, 1px, 1px, 1px);height: 1px;margin: -1px;overflow: hidden;padding: 0;position: absolute;width: 1px;}#sk-container-id-2 div.sk-estimator {font-family: monospace;background-color: #f0f8ff;border: 1px dotted black;border-radius: 0.25em;box-sizing: border-box;margin-bottom: 0.5em;}#sk-container-id-2 div.sk-estimator:hover {background-color: #d4ebff;}#sk-container-id-2 div.sk-parallel-item::after {content: \"\";width: 100%;border-bottom: 1px solid gray;flex-grow: 1;}#sk-container-id-2 div.sk-label:hover label.sk-toggleable__label {background-color: #d4ebff;}#sk-container-id-2 div.sk-serial::before {content: \"\";position: absolute;border-left: 1px solid gray;box-sizing: border-box;top: 0;bottom: 0;left: 50%;z-index: 0;}#sk-container-id-2 div.sk-serial {display: flex;flex-direction: column;align-items: center;background-color: white;padding-right: 0.2em;padding-left: 0.2em;position: relative;}#sk-container-id-2 div.sk-item {position: relative;z-index: 1;}#sk-container-id-2 div.sk-parallel {display: flex;align-items: stretch;justify-content: center;background-color: white;position: relative;}#sk-container-id-2 div.sk-item::before, #sk-container-id-2 div.sk-parallel-item::before {content: \"\";position: absolute;border-left: 1px solid gray;box-sizing: border-box;top: 0;bottom: 0;left: 50%;z-index: -1;}#sk-container-id-2 div.sk-parallel-item {display: flex;flex-direction: column;z-index: 1;position: relative;background-color: white;}#sk-container-id-2 div.sk-parallel-item:first-child::after {align-self: flex-end;width: 50%;}#sk-container-id-2 div.sk-parallel-item:last-child::after {align-self: flex-start;width: 50%;}#sk-container-id-2 div.sk-parallel-item:only-child::after {width: 0;}#sk-container-id-2 div.sk-dashed-wrapped {border: 1px dashed gray;margin: 0 0.4em 0.5em 0.4em;box-sizing: border-box;padding-bottom: 0.4em;background-color: white;}#sk-container-id-2 div.sk-label label {font-family: monospace;font-weight: bold;display: inline-block;line-height: 1.2em;}#sk-container-id-2 div.sk-label-container {text-align: center;}#sk-container-id-2 div.sk-container {/* jupyter's `normalize.less` sets `[hidden] { display: none; }` but bootstrap.min.css set `[hidden] { display: none !important; }` so we also need the `!important` here to be able to override the default hidden behavior on the sphinx rendered scikit-learn.org. See: https://github.com/scikit-learn/scikit-learn/issues/21755 */display: inline-block !important;position: relative;}#sk-container-id-2 div.sk-text-repr-fallback {display: none;}</style><div id=\"sk-container-id-2\" class=\"sk-top-container\"><div class=\"sk-text-repr-fallback\"><pre>KNeighborsRegressor(n_neighbors=15)</pre><b>In a Jupyter environment, please rerun this cell to show the HTML representation or trust the notebook. <br />On GitHub, the HTML representation is unable to render, please try loading this page with nbviewer.org.</b></div><div class=\"sk-container\" hidden><div class=\"sk-item\"><div class=\"sk-estimator sk-toggleable\"><input class=\"sk-toggleable__control sk-hidden--visually\" id=\"sk-estimator-id-4\" type=\"checkbox\" checked><label for=\"sk-estimator-id-4\" class=\"sk-toggleable__label sk-toggleable__label-arrow\">KNeighborsRegressor</label><div class=\"sk-toggleable__content\"><pre>KNeighborsRegressor(n_neighbors=15)</pre></div></div></div></div></div>"
            ]
          },
          "metadata": {},
          "execution_count": 6
        }
      ]
    },
    {
      "cell_type": "code",
      "source": [
        "modeloGS150 = GridSearchCV(KNeighborsRegressor(), param, verbose=3,\n",
        "                      cv=RepeatedKFold(random_state=42),\n",
        "                      scoring=make_scorer(mean_squared_error,\n",
        "                                          greater_is_better=False,\n",
        "                                          squared=False))\n",
        "modeloGS150.fit(X, y)\n",
        "modeloGS150.cv_results_\n",
        "modeloGS150.best_estimator_"
      ],
      "metadata": {
        "colab": {
          "base_uri": "https://localhost:8080/",
          "height": 1000
        },
        "id": "BXaiVSiKrW2t",
        "outputId": "afed18ca-b3e1-4dbc-89cd-787988062177"
      },
      "execution_count": null,
      "outputs": [
        {
          "output_type": "stream",
          "name": "stdout",
          "text": [
            "Fitting 50 folds for each of 3 candidates, totalling 150 fits\n",
            "[CV 1/50] END ...................n_neighbors=1;, score=-1.244 total time=   0.1s\n",
            "[CV 2/50] END ...................n_neighbors=1;, score=-1.285 total time=   0.1s\n",
            "[CV 3/50] END ...................n_neighbors=1;, score=-1.227 total time=   0.1s\n",
            "[CV 4/50] END ...................n_neighbors=1;, score=-1.251 total time=   0.1s\n",
            "[CV 5/50] END ...................n_neighbors=1;, score=-1.291 total time=   0.1s\n",
            "[CV 6/50] END ...................n_neighbors=1;, score=-1.253 total time=   0.1s\n",
            "[CV 7/50] END ...................n_neighbors=1;, score=-1.275 total time=   0.1s\n",
            "[CV 8/50] END ...................n_neighbors=1;, score=-1.271 total time=   0.1s\n",
            "[CV 9/50] END ...................n_neighbors=1;, score=-1.250 total time=   0.1s\n",
            "[CV 10/50] END ..................n_neighbors=1;, score=-1.252 total time=   0.2s\n",
            "[CV 11/50] END ..................n_neighbors=1;, score=-1.264 total time=   0.1s\n",
            "[CV 12/50] END ..................n_neighbors=1;, score=-1.235 total time=   0.1s\n",
            "[CV 13/50] END ..................n_neighbors=1;, score=-1.250 total time=   0.1s\n",
            "[CV 14/50] END ..................n_neighbors=1;, score=-1.284 total time=   0.1s\n",
            "[CV 15/50] END ..................n_neighbors=1;, score=-1.234 total time=   0.1s\n",
            "[CV 16/50] END ..................n_neighbors=1;, score=-1.248 total time=   0.1s\n",
            "[CV 17/50] END ..................n_neighbors=1;, score=-1.242 total time=   0.1s\n",
            "[CV 18/50] END ..................n_neighbors=1;, score=-1.282 total time=   0.1s\n",
            "[CV 19/50] END ..................n_neighbors=1;, score=-1.242 total time=   0.1s\n",
            "[CV 20/50] END ..................n_neighbors=1;, score=-1.265 total time=   0.1s\n",
            "[CV 21/50] END ..................n_neighbors=1;, score=-1.227 total time=   0.1s\n",
            "[CV 22/50] END ..................n_neighbors=1;, score=-1.239 total time=   0.1s\n",
            "[CV 23/50] END ..................n_neighbors=1;, score=-1.262 total time=   0.1s\n",
            "[CV 24/50] END ..................n_neighbors=1;, score=-1.254 total time=   0.2s\n",
            "[CV 25/50] END ..................n_neighbors=1;, score=-1.279 total time=   0.1s\n",
            "[CV 26/50] END ..................n_neighbors=1;, score=-1.263 total time=   0.1s\n",
            "[CV 27/50] END ..................n_neighbors=1;, score=-1.251 total time=   0.1s\n",
            "[CV 28/50] END ..................n_neighbors=1;, score=-1.274 total time=   0.1s\n",
            "[CV 29/50] END ..................n_neighbors=1;, score=-1.248 total time=   0.1s\n",
            "[CV 30/50] END ..................n_neighbors=1;, score=-1.244 total time=   0.1s\n",
            "[CV 31/50] END ..................n_neighbors=1;, score=-1.264 total time=   0.1s\n",
            "[CV 32/50] END ..................n_neighbors=1;, score=-1.282 total time=   0.1s\n",
            "[CV 33/50] END ..................n_neighbors=1;, score=-1.276 total time=   0.1s\n",
            "[CV 34/50] END ..................n_neighbors=1;, score=-1.241 total time=   0.1s\n",
            "[CV 35/50] END ..................n_neighbors=1;, score=-1.259 total time=   0.1s\n",
            "[CV 36/50] END ..................n_neighbors=1;, score=-1.262 total time=   0.1s\n",
            "[CV 37/50] END ..................n_neighbors=1;, score=-1.264 total time=   0.1s\n",
            "[CV 38/50] END ..................n_neighbors=1;, score=-1.264 total time=   0.1s\n",
            "[CV 39/50] END ..................n_neighbors=1;, score=-1.241 total time=   0.1s\n",
            "[CV 40/50] END ..................n_neighbors=1;, score=-1.246 total time=   0.1s\n",
            "[CV 41/50] END ..................n_neighbors=1;, score=-1.254 total time=   0.1s\n",
            "[CV 42/50] END ..................n_neighbors=1;, score=-1.240 total time=   0.1s\n",
            "[CV 43/50] END ..................n_neighbors=1;, score=-1.266 total time=   0.1s\n",
            "[CV 44/50] END ..................n_neighbors=1;, score=-1.284 total time=   0.1s\n",
            "[CV 45/50] END ..................n_neighbors=1;, score=-1.262 total time=   0.1s\n",
            "[CV 46/50] END ..................n_neighbors=1;, score=-1.243 total time=   0.1s\n",
            "[CV 47/50] END ..................n_neighbors=1;, score=-1.235 total time=   0.1s\n",
            "[CV 48/50] END ..................n_neighbors=1;, score=-1.263 total time=   0.1s\n",
            "[CV 49/50] END ..................n_neighbors=1;, score=-1.269 total time=   0.1s\n",
            "[CV 50/50] END ..................n_neighbors=1;, score=-1.280 total time=   0.1s\n",
            "[CV 1/50] END ...................n_neighbors=7;, score=-1.051 total time=   0.1s\n",
            "[CV 2/50] END ...................n_neighbors=7;, score=-1.062 total time=   0.1s\n",
            "[CV 3/50] END ...................n_neighbors=7;, score=-1.041 total time=   0.2s\n",
            "[CV 4/50] END ...................n_neighbors=7;, score=-1.053 total time=   0.2s\n",
            "[CV 5/50] END ...................n_neighbors=7;, score=-1.069 total time=   0.1s\n",
            "[CV 6/50] END ...................n_neighbors=7;, score=-1.054 total time=   0.2s\n",
            "[CV 7/50] END ...................n_neighbors=7;, score=-1.050 total time=   0.3s\n",
            "[CV 8/50] END ...................n_neighbors=7;, score=-1.057 total time=   0.3s\n",
            "[CV 9/50] END ...................n_neighbors=7;, score=-1.059 total time=   0.3s\n",
            "[CV 10/50] END ..................n_neighbors=7;, score=-1.067 total time=   0.2s\n",
            "[CV 11/50] END ..................n_neighbors=7;, score=-1.069 total time=   0.3s\n",
            "[CV 12/50] END ..................n_neighbors=7;, score=-1.047 total time=   0.2s\n",
            "[CV 13/50] END ..................n_neighbors=7;, score=-1.057 total time=   0.1s\n",
            "[CV 14/50] END ..................n_neighbors=7;, score=-1.058 total time=   0.1s\n",
            "[CV 15/50] END ..................n_neighbors=7;, score=-1.057 total time=   0.3s\n",
            "[CV 16/50] END ..................n_neighbors=7;, score=-1.072 total time=   0.2s\n",
            "[CV 17/50] END ..................n_neighbors=7;, score=-1.044 total time=   0.1s\n",
            "[CV 18/50] END ..................n_neighbors=7;, score=-1.042 total time=   0.1s\n",
            "[CV 19/50] END ..................n_neighbors=7;, score=-1.068 total time=   0.1s\n",
            "[CV 20/50] END ..................n_neighbors=7;, score=-1.061 total time=   0.1s\n",
            "[CV 21/50] END ..................n_neighbors=7;, score=-1.045 total time=   0.1s\n",
            "[CV 22/50] END ..................n_neighbors=7;, score=-1.052 total time=   0.1s\n",
            "[CV 23/50] END ..................n_neighbors=7;, score=-1.054 total time=   0.1s\n",
            "[CV 24/50] END ..................n_neighbors=7;, score=-1.061 total time=   0.1s\n",
            "[CV 25/50] END ..................n_neighbors=7;, score=-1.065 total time=   0.1s\n",
            "[CV 26/50] END ..................n_neighbors=7;, score=-1.068 total time=   0.1s\n",
            "[CV 27/50] END ..................n_neighbors=7;, score=-1.061 total time=   0.1s\n",
            "[CV 28/50] END ..................n_neighbors=7;, score=-1.068 total time=   0.1s\n",
            "[CV 29/50] END ..................n_neighbors=7;, score=-1.051 total time=   0.1s\n",
            "[CV 30/50] END ..................n_neighbors=7;, score=-1.037 total time=   0.1s\n",
            "[CV 31/50] END ..................n_neighbors=7;, score=-1.048 total time=   0.1s\n",
            "[CV 32/50] END ..................n_neighbors=7;, score=-1.073 total time=   0.1s\n",
            "[CV 33/50] END ..................n_neighbors=7;, score=-1.062 total time=   0.2s\n",
            "[CV 34/50] END ..................n_neighbors=7;, score=-1.035 total time=   0.1s\n",
            "[CV 35/50] END ..................n_neighbors=7;, score=-1.062 total time=   0.1s\n",
            "[CV 36/50] END ..................n_neighbors=7;, score=-1.056 total time=   0.1s\n",
            "[CV 37/50] END ..................n_neighbors=7;, score=-1.064 total time=   0.2s\n",
            "[CV 38/50] END ..................n_neighbors=7;, score=-1.063 total time=   0.1s\n",
            "[CV 39/50] END ..................n_neighbors=7;, score=-1.052 total time=   0.1s\n",
            "[CV 40/50] END ..................n_neighbors=7;, score=-1.050 total time=   0.1s\n",
            "[CV 41/50] END ..................n_neighbors=7;, score=-1.045 total time=   0.1s\n",
            "[CV 42/50] END ..................n_neighbors=7;, score=-1.057 total time=   0.1s\n",
            "[CV 43/50] END ..................n_neighbors=7;, score=-1.055 total time=   0.2s\n",
            "[CV 44/50] END ..................n_neighbors=7;, score=-1.077 total time=   0.1s\n",
            "[CV 45/50] END ..................n_neighbors=7;, score=-1.058 total time=   0.1s\n",
            "[CV 46/50] END ..................n_neighbors=7;, score=-1.053 total time=   0.1s\n",
            "[CV 47/50] END ..................n_neighbors=7;, score=-1.035 total time=   0.1s\n",
            "[CV 48/50] END ..................n_neighbors=7;, score=-1.064 total time=   0.1s\n",
            "[CV 49/50] END ..................n_neighbors=7;, score=-1.069 total time=   0.2s\n",
            "[CV 50/50] END ..................n_neighbors=7;, score=-1.064 total time=   0.2s\n",
            "[CV 1/50] END ..................n_neighbors=15;, score=-1.057 total time=   0.1s\n",
            "[CV 2/50] END ..................n_neighbors=15;, score=-1.073 total time=   0.2s\n",
            "[CV 3/50] END ..................n_neighbors=15;, score=-1.055 total time=   0.1s\n",
            "[CV 4/50] END ..................n_neighbors=15;, score=-1.061 total time=   0.1s\n",
            "[CV 5/50] END ..................n_neighbors=15;, score=-1.073 total time=   0.1s\n",
            "[CV 6/50] END ..................n_neighbors=15;, score=-1.049 total time=   0.1s\n",
            "[CV 7/50] END ..................n_neighbors=15;, score=-1.059 total time=   0.1s\n",
            "[CV 8/50] END ..................n_neighbors=15;, score=-1.072 total time=   0.1s\n",
            "[CV 9/50] END ..................n_neighbors=15;, score=-1.063 total time=   0.1s\n",
            "[CV 10/50] END .................n_neighbors=15;, score=-1.083 total time=   0.1s\n",
            "[CV 11/50] END .................n_neighbors=15;, score=-1.085 total time=   0.1s\n",
            "[CV 12/50] END .................n_neighbors=15;, score=-1.051 total time=   0.1s\n",
            "[CV 13/50] END .................n_neighbors=15;, score=-1.068 total time=   0.1s\n",
            "[CV 14/50] END .................n_neighbors=15;, score=-1.068 total time=   0.1s\n",
            "[CV 15/50] END .................n_neighbors=15;, score=-1.070 total time=   0.1s\n",
            "[CV 16/50] END .................n_neighbors=15;, score=-1.086 total time=   0.1s\n",
            "[CV 17/50] END .................n_neighbors=15;, score=-1.047 total time=   0.1s\n",
            "[CV 18/50] END .................n_neighbors=15;, score=-1.049 total time=   0.1s\n",
            "[CV 19/50] END .................n_neighbors=15;, score=-1.079 total time=   0.1s\n",
            "[CV 20/50] END .................n_neighbors=15;, score=-1.067 total time=   0.1s\n",
            "[CV 21/50] END .................n_neighbors=15;, score=-1.054 total time=   0.1s\n",
            "[CV 22/50] END .................n_neighbors=15;, score=-1.066 total time=   0.1s\n",
            "[CV 23/50] END .................n_neighbors=15;, score=-1.062 total time=   0.1s\n",
            "[CV 24/50] END .................n_neighbors=15;, score=-1.075 total time=   0.1s\n",
            "[CV 25/50] END .................n_neighbors=15;, score=-1.072 total time=   0.1s\n",
            "[CV 26/50] END .................n_neighbors=15;, score=-1.075 total time=   0.1s\n",
            "[CV 27/50] END .................n_neighbors=15;, score=-1.071 total time=   0.1s\n",
            "[CV 28/50] END .................n_neighbors=15;, score=-1.077 total time=   0.1s\n",
            "[CV 29/50] END .................n_neighbors=15;, score=-1.058 total time=   0.1s\n",
            "[CV 30/50] END .................n_neighbors=15;, score=-1.050 total time=   0.1s\n",
            "[CV 31/50] END .................n_neighbors=15;, score=-1.049 total time=   0.1s\n",
            "[CV 32/50] END .................n_neighbors=15;, score=-1.083 total time=   0.1s\n",
            "[CV 33/50] END .................n_neighbors=15;, score=-1.067 total time=   0.1s\n",
            "[CV 34/50] END .................n_neighbors=15;, score=-1.052 total time=   0.1s\n",
            "[CV 35/50] END .................n_neighbors=15;, score=-1.074 total time=   0.1s\n",
            "[CV 36/50] END .................n_neighbors=15;, score=-1.066 total time=   0.1s\n",
            "[CV 37/50] END .................n_neighbors=15;, score=-1.069 total time=   0.1s\n",
            "[CV 38/50] END .................n_neighbors=15;, score=-1.073 total time=   0.1s\n",
            "[CV 39/50] END .................n_neighbors=15;, score=-1.061 total time=   0.1s\n",
            "[CV 40/50] END .................n_neighbors=15;, score=-1.060 total time=   0.1s\n",
            "[CV 41/50] END .................n_neighbors=15;, score=-1.059 total time=   0.1s\n",
            "[CV 42/50] END .................n_neighbors=15;, score=-1.065 total time=   0.1s\n",
            "[CV 43/50] END .................n_neighbors=15;, score=-1.067 total time=   0.1s\n",
            "[CV 44/50] END .................n_neighbors=15;, score=-1.078 total time=   0.1s\n",
            "[CV 45/50] END .................n_neighbors=15;, score=-1.069 total time=   0.1s\n",
            "[CV 46/50] END .................n_neighbors=15;, score=-1.061 total time=   0.1s\n",
            "[CV 47/50] END .................n_neighbors=15;, score=-1.052 total time=   0.1s\n",
            "[CV 48/50] END .................n_neighbors=15;, score=-1.078 total time=   0.1s\n",
            "[CV 49/50] END .................n_neighbors=15;, score=-1.070 total time=   0.1s\n",
            "[CV 50/50] END .................n_neighbors=15;, score=-1.074 total time=   0.1s\n"
          ]
        },
        {
          "output_type": "execute_result",
          "data": {
            "text/plain": [
              "KNeighborsRegressor(n_neighbors=7)"
            ],
            "text/html": [
              "<style>#sk-container-id-3 {color: black;background-color: white;}#sk-container-id-3 pre{padding: 0;}#sk-container-id-3 div.sk-toggleable {background-color: white;}#sk-container-id-3 label.sk-toggleable__label {cursor: pointer;display: block;width: 100%;margin-bottom: 0;padding: 0.3em;box-sizing: border-box;text-align: center;}#sk-container-id-3 label.sk-toggleable__label-arrow:before {content: \"▸\";float: left;margin-right: 0.25em;color: #696969;}#sk-container-id-3 label.sk-toggleable__label-arrow:hover:before {color: black;}#sk-container-id-3 div.sk-estimator:hover label.sk-toggleable__label-arrow:before {color: black;}#sk-container-id-3 div.sk-toggleable__content {max-height: 0;max-width: 0;overflow: hidden;text-align: left;background-color: #f0f8ff;}#sk-container-id-3 div.sk-toggleable__content pre {margin: 0.2em;color: black;border-radius: 0.25em;background-color: #f0f8ff;}#sk-container-id-3 input.sk-toggleable__control:checked~div.sk-toggleable__content {max-height: 200px;max-width: 100%;overflow: auto;}#sk-container-id-3 input.sk-toggleable__control:checked~label.sk-toggleable__label-arrow:before {content: \"▾\";}#sk-container-id-3 div.sk-estimator input.sk-toggleable__control:checked~label.sk-toggleable__label {background-color: #d4ebff;}#sk-container-id-3 div.sk-label input.sk-toggleable__control:checked~label.sk-toggleable__label {background-color: #d4ebff;}#sk-container-id-3 input.sk-hidden--visually {border: 0;clip: rect(1px 1px 1px 1px);clip: rect(1px, 1px, 1px, 1px);height: 1px;margin: -1px;overflow: hidden;padding: 0;position: absolute;width: 1px;}#sk-container-id-3 div.sk-estimator {font-family: monospace;background-color: #f0f8ff;border: 1px dotted black;border-radius: 0.25em;box-sizing: border-box;margin-bottom: 0.5em;}#sk-container-id-3 div.sk-estimator:hover {background-color: #d4ebff;}#sk-container-id-3 div.sk-parallel-item::after {content: \"\";width: 100%;border-bottom: 1px solid gray;flex-grow: 1;}#sk-container-id-3 div.sk-label:hover label.sk-toggleable__label {background-color: #d4ebff;}#sk-container-id-3 div.sk-serial::before {content: \"\";position: absolute;border-left: 1px solid gray;box-sizing: border-box;top: 0;bottom: 0;left: 50%;z-index: 0;}#sk-container-id-3 div.sk-serial {display: flex;flex-direction: column;align-items: center;background-color: white;padding-right: 0.2em;padding-left: 0.2em;position: relative;}#sk-container-id-3 div.sk-item {position: relative;z-index: 1;}#sk-container-id-3 div.sk-parallel {display: flex;align-items: stretch;justify-content: center;background-color: white;position: relative;}#sk-container-id-3 div.sk-item::before, #sk-container-id-3 div.sk-parallel-item::before {content: \"\";position: absolute;border-left: 1px solid gray;box-sizing: border-box;top: 0;bottom: 0;left: 50%;z-index: -1;}#sk-container-id-3 div.sk-parallel-item {display: flex;flex-direction: column;z-index: 1;position: relative;background-color: white;}#sk-container-id-3 div.sk-parallel-item:first-child::after {align-self: flex-end;width: 50%;}#sk-container-id-3 div.sk-parallel-item:last-child::after {align-self: flex-start;width: 50%;}#sk-container-id-3 div.sk-parallel-item:only-child::after {width: 0;}#sk-container-id-3 div.sk-dashed-wrapped {border: 1px dashed gray;margin: 0 0.4em 0.5em 0.4em;box-sizing: border-box;padding-bottom: 0.4em;background-color: white;}#sk-container-id-3 div.sk-label label {font-family: monospace;font-weight: bold;display: inline-block;line-height: 1.2em;}#sk-container-id-3 div.sk-label-container {text-align: center;}#sk-container-id-3 div.sk-container {/* jupyter's `normalize.less` sets `[hidden] { display: none; }` but bootstrap.min.css set `[hidden] { display: none !important; }` so we also need the `!important` here to be able to override the default hidden behavior on the sphinx rendered scikit-learn.org. See: https://github.com/scikit-learn/scikit-learn/issues/21755 */display: inline-block !important;position: relative;}#sk-container-id-3 div.sk-text-repr-fallback {display: none;}</style><div id=\"sk-container-id-3\" class=\"sk-top-container\"><div class=\"sk-text-repr-fallback\"><pre>KNeighborsRegressor(n_neighbors=7)</pre><b>In a Jupyter environment, please rerun this cell to show the HTML representation or trust the notebook. <br />On GitHub, the HTML representation is unable to render, please try loading this page with nbviewer.org.</b></div><div class=\"sk-container\" hidden><div class=\"sk-item\"><div class=\"sk-estimator sk-toggleable\"><input class=\"sk-toggleable__control sk-hidden--visually\" id=\"sk-estimator-id-5\" type=\"checkbox\" checked><label for=\"sk-estimator-id-5\" class=\"sk-toggleable__label sk-toggleable__label-arrow\">KNeighborsRegressor</label><div class=\"sk-toggleable__content\"><pre>KNeighborsRegressor(n_neighbors=7)</pre></div></div></div></div></div>"
            ]
          },
          "metadata": {},
          "execution_count": 7
        }
      ]
    },
    {
      "cell_type": "code",
      "source": [
        "param = {'n_neighbors': [1, 7, 15],\n",
        "         'metric': ['cosine', 'cityblock', 'euclidean']}\n",
        "modeloGS45 = GridSearchCV(KNeighborsRegressor(), param, verbose=3,\n",
        "                      cv=5,\n",
        "                      scoring=make_scorer(mean_squared_error,\n",
        "                                          greater_is_better=False,\n",
        "                                          squared=False))\n",
        "modeloGS45.fit(X, y)\n",
        "modeloGS45.cv_results_\n",
        "modeloGS45.best_estimator_"
      ],
      "metadata": {
        "colab": {
          "base_uri": "https://localhost:8080/",
          "height": 897
        },
        "id": "NWC4301vsdf-",
        "outputId": "b7142233-d84f-410d-9291-1ee4a8ee2fed"
      },
      "execution_count": null,
      "outputs": [
        {
          "output_type": "stream",
          "name": "stdout",
          "text": [
            "Fitting 5 folds for each of 9 candidates, totalling 45 fits\n",
            "[CV 1/5] END .....metric=cosine, n_neighbors=1;, score=-1.122 total time=   0.9s\n",
            "[CV 2/5] END .....metric=cosine, n_neighbors=1;, score=-1.146 total time=   0.8s\n",
            "[CV 3/5] END .....metric=cosine, n_neighbors=1;, score=-1.131 total time=   0.8s\n",
            "[CV 4/5] END .....metric=cosine, n_neighbors=1;, score=-1.175 total time=   0.8s\n",
            "[CV 5/5] END .....metric=cosine, n_neighbors=1;, score=-1.143 total time=   1.1s\n",
            "[CV 1/5] END .....metric=cosine, n_neighbors=7;, score=-0.872 total time=   1.9s\n",
            "[CV 2/5] END .....metric=cosine, n_neighbors=7;, score=-0.873 total time=   1.5s\n",
            "[CV 3/5] END .....metric=cosine, n_neighbors=7;, score=-0.971 total time=   1.4s\n",
            "[CV 4/5] END .....metric=cosine, n_neighbors=7;, score=-0.958 total time=   1.5s\n",
            "[CV 5/5] END .....metric=cosine, n_neighbors=7;, score=-0.993 total time=   1.4s\n",
            "[CV 1/5] END ....metric=cosine, n_neighbors=15;, score=-0.876 total time=   1.5s\n",
            "[CV 2/5] END ....metric=cosine, n_neighbors=15;, score=-0.875 total time=   1.5s\n",
            "[CV 3/5] END ....metric=cosine, n_neighbors=15;, score=-0.997 total time=   1.6s\n",
            "[CV 4/5] END ....metric=cosine, n_neighbors=15;, score=-0.952 total time=   1.9s\n",
            "[CV 5/5] END ....metric=cosine, n_neighbors=15;, score=-1.001 total time=   1.5s\n",
            "[CV 1/5] END ..metric=cityblock, n_neighbors=1;, score=-1.271 total time=   0.0s\n",
            "[CV 2/5] END ..metric=cityblock, n_neighbors=1;, score=-1.279 total time=   0.0s\n",
            "[CV 3/5] END ..metric=cityblock, n_neighbors=1;, score=-1.317 total time=   0.0s\n",
            "[CV 4/5] END ..metric=cityblock, n_neighbors=1;, score=-1.317 total time=   0.0s\n",
            "[CV 5/5] END ..metric=cityblock, n_neighbors=1;, score=-1.326 total time=   0.0s\n",
            "[CV 1/5] END ..metric=cityblock, n_neighbors=7;, score=-1.015 total time=   0.1s\n",
            "[CV 2/5] END ..metric=cityblock, n_neighbors=7;, score=-0.984 total time=   0.1s\n",
            "[CV 3/5] END ..metric=cityblock, n_neighbors=7;, score=-1.127 total time=   0.1s\n",
            "[CV 4/5] END ..metric=cityblock, n_neighbors=7;, score=-1.057 total time=   0.1s\n",
            "[CV 5/5] END ..metric=cityblock, n_neighbors=7;, score=-1.151 total time=   0.1s\n",
            "[CV 1/5] END .metric=cityblock, n_neighbors=15;, score=-1.006 total time=   0.1s\n",
            "[CV 2/5] END .metric=cityblock, n_neighbors=15;, score=-0.972 total time=   0.1s\n",
            "[CV 3/5] END .metric=cityblock, n_neighbors=15;, score=-1.137 total time=   0.1s\n",
            "[CV 4/5] END .metric=cityblock, n_neighbors=15;, score=-1.042 total time=   0.1s\n",
            "[CV 5/5] END .metric=cityblock, n_neighbors=15;, score=-1.141 total time=   0.1s\n",
            "[CV 1/5] END ..metric=euclidean, n_neighbors=1;, score=-1.289 total time=   0.0s\n",
            "[CV 2/5] END ..metric=euclidean, n_neighbors=1;, score=-1.320 total time=   0.0s\n",
            "[CV 3/5] END ..metric=euclidean, n_neighbors=1;, score=-1.346 total time=   0.0s\n",
            "[CV 4/5] END ..metric=euclidean, n_neighbors=1;, score=-1.368 total time=   0.0s\n",
            "[CV 5/5] END ..metric=euclidean, n_neighbors=1;, score=-1.361 total time=   0.0s\n",
            "[CV 1/5] END ..metric=euclidean, n_neighbors=7;, score=-1.051 total time=   0.0s\n",
            "[CV 2/5] END ..metric=euclidean, n_neighbors=7;, score=-1.025 total time=   0.0s\n",
            "[CV 3/5] END ..metric=euclidean, n_neighbors=7;, score=-1.185 total time=   0.0s\n",
            "[CV 4/5] END ..metric=euclidean, n_neighbors=7;, score=-1.096 total time=   0.0s\n",
            "[CV 5/5] END ..metric=euclidean, n_neighbors=7;, score=-1.179 total time=   0.1s\n",
            "[CV 1/5] END .metric=euclidean, n_neighbors=15;, score=-1.057 total time=   0.1s\n",
            "[CV 2/5] END .metric=euclidean, n_neighbors=15;, score=-1.022 total time=   0.1s\n",
            "[CV 3/5] END .metric=euclidean, n_neighbors=15;, score=-1.193 total time=   0.1s\n",
            "[CV 4/5] END .metric=euclidean, n_neighbors=15;, score=-1.078 total time=   0.1s\n",
            "[CV 5/5] END .metric=euclidean, n_neighbors=15;, score=-1.173 total time=   0.1s\n"
          ]
        },
        {
          "output_type": "execute_result",
          "data": {
            "text/plain": [
              "KNeighborsRegressor(metric='cosine', n_neighbors=7)"
            ],
            "text/html": [
              "<style>#sk-container-id-4 {color: black;background-color: white;}#sk-container-id-4 pre{padding: 0;}#sk-container-id-4 div.sk-toggleable {background-color: white;}#sk-container-id-4 label.sk-toggleable__label {cursor: pointer;display: block;width: 100%;margin-bottom: 0;padding: 0.3em;box-sizing: border-box;text-align: center;}#sk-container-id-4 label.sk-toggleable__label-arrow:before {content: \"▸\";float: left;margin-right: 0.25em;color: #696969;}#sk-container-id-4 label.sk-toggleable__label-arrow:hover:before {color: black;}#sk-container-id-4 div.sk-estimator:hover label.sk-toggleable__label-arrow:before {color: black;}#sk-container-id-4 div.sk-toggleable__content {max-height: 0;max-width: 0;overflow: hidden;text-align: left;background-color: #f0f8ff;}#sk-container-id-4 div.sk-toggleable__content pre {margin: 0.2em;color: black;border-radius: 0.25em;background-color: #f0f8ff;}#sk-container-id-4 input.sk-toggleable__control:checked~div.sk-toggleable__content {max-height: 200px;max-width: 100%;overflow: auto;}#sk-container-id-4 input.sk-toggleable__control:checked~label.sk-toggleable__label-arrow:before {content: \"▾\";}#sk-container-id-4 div.sk-estimator input.sk-toggleable__control:checked~label.sk-toggleable__label {background-color: #d4ebff;}#sk-container-id-4 div.sk-label input.sk-toggleable__control:checked~label.sk-toggleable__label {background-color: #d4ebff;}#sk-container-id-4 input.sk-hidden--visually {border: 0;clip: rect(1px 1px 1px 1px);clip: rect(1px, 1px, 1px, 1px);height: 1px;margin: -1px;overflow: hidden;padding: 0;position: absolute;width: 1px;}#sk-container-id-4 div.sk-estimator {font-family: monospace;background-color: #f0f8ff;border: 1px dotted black;border-radius: 0.25em;box-sizing: border-box;margin-bottom: 0.5em;}#sk-container-id-4 div.sk-estimator:hover {background-color: #d4ebff;}#sk-container-id-4 div.sk-parallel-item::after {content: \"\";width: 100%;border-bottom: 1px solid gray;flex-grow: 1;}#sk-container-id-4 div.sk-label:hover label.sk-toggleable__label {background-color: #d4ebff;}#sk-container-id-4 div.sk-serial::before {content: \"\";position: absolute;border-left: 1px solid gray;box-sizing: border-box;top: 0;bottom: 0;left: 50%;z-index: 0;}#sk-container-id-4 div.sk-serial {display: flex;flex-direction: column;align-items: center;background-color: white;padding-right: 0.2em;padding-left: 0.2em;position: relative;}#sk-container-id-4 div.sk-item {position: relative;z-index: 1;}#sk-container-id-4 div.sk-parallel {display: flex;align-items: stretch;justify-content: center;background-color: white;position: relative;}#sk-container-id-4 div.sk-item::before, #sk-container-id-4 div.sk-parallel-item::before {content: \"\";position: absolute;border-left: 1px solid gray;box-sizing: border-box;top: 0;bottom: 0;left: 50%;z-index: -1;}#sk-container-id-4 div.sk-parallel-item {display: flex;flex-direction: column;z-index: 1;position: relative;background-color: white;}#sk-container-id-4 div.sk-parallel-item:first-child::after {align-self: flex-end;width: 50%;}#sk-container-id-4 div.sk-parallel-item:last-child::after {align-self: flex-start;width: 50%;}#sk-container-id-4 div.sk-parallel-item:only-child::after {width: 0;}#sk-container-id-4 div.sk-dashed-wrapped {border: 1px dashed gray;margin: 0 0.4em 0.5em 0.4em;box-sizing: border-box;padding-bottom: 0.4em;background-color: white;}#sk-container-id-4 div.sk-label label {font-family: monospace;font-weight: bold;display: inline-block;line-height: 1.2em;}#sk-container-id-4 div.sk-label-container {text-align: center;}#sk-container-id-4 div.sk-container {/* jupyter's `normalize.less` sets `[hidden] { display: none; }` but bootstrap.min.css set `[hidden] { display: none !important; }` so we also need the `!important` here to be able to override the default hidden behavior on the sphinx rendered scikit-learn.org. See: https://github.com/scikit-learn/scikit-learn/issues/21755 */display: inline-block !important;position: relative;}#sk-container-id-4 div.sk-text-repr-fallback {display: none;}</style><div id=\"sk-container-id-4\" class=\"sk-top-container\"><div class=\"sk-text-repr-fallback\"><pre>KNeighborsRegressor(metric=&#x27;cosine&#x27;, n_neighbors=7)</pre><b>In a Jupyter environment, please rerun this cell to show the HTML representation or trust the notebook. <br />On GitHub, the HTML representation is unable to render, please try loading this page with nbviewer.org.</b></div><div class=\"sk-container\" hidden><div class=\"sk-item\"><div class=\"sk-estimator sk-toggleable\"><input class=\"sk-toggleable__control sk-hidden--visually\" id=\"sk-estimator-id-6\" type=\"checkbox\" checked><label for=\"sk-estimator-id-6\" class=\"sk-toggleable__label sk-toggleable__label-arrow\">KNeighborsRegressor</label><div class=\"sk-toggleable__content\"><pre>KNeighborsRegressor(metric=&#x27;cosine&#x27;, n_neighbors=7)</pre></div></div></div></div></div>"
            ]
          },
          "metadata": {},
          "execution_count": 8
        }
      ]
    },
    {
      "cell_type": "code",
      "source": [
        "modelos = [\n",
        "    ('modeloGS15', modeloGS15),\n",
        "    ('modeloGS150', modeloGS150),\n",
        "    ('modeloGS45', modeloGS45)\n",
        "    ]\n",
        "\n",
        "for nome, modelo in modelos:\n",
        "  rmse = mean_squared_error(yte, modelo.predict(Xte), squared=False)\n",
        "  print(f\"{nome}: {rmse}\")"
      ],
      "metadata": {
        "colab": {
          "base_uri": "https://localhost:8080/"
        },
        "id": "r9BXuAZ0z4qs",
        "outputId": "ffd53fe6-371d-4f52-982d-cf9d92cd5c4f"
      },
      "execution_count": null,
      "outputs": [
        {
          "output_type": "stream",
          "name": "stdout",
          "text": [
            "modeloGS15: 0.9673421340457816\n",
            "modeloGS150: 0.875212952661789\n",
            "modeloGS45: 0.7155843465828557\n"
          ]
        }
      ]
    },
    {
      "cell_type": "code",
      "source": [
        "for nome, modelo in modelos:\n",
        "  modelo.verbose = 0\n",
        "  scores = cross_validate(modelo, X, y,\n",
        "                        scoring=make_scorer(mean_squared_error, squared=False))\n",
        "  rmse = np.mean(scores['test_score'])\n",
        "  print(f\"{nome}: {rmse}\")"
      ],
      "metadata": {
        "colab": {
          "base_uri": "https://localhost:8080/"
        },
        "id": "d_j0vB9G2Jwv",
        "outputId": "957dea27-ba35-46bd-ecc7-08e2a3ed6552"
      },
      "execution_count": null,
      "outputs": [
        {
          "output_type": "stream",
          "name": "stdout",
          "text": [
            "modeloGS15: 1.1088266373010138\n",
            "modeloGS150: 1.1072195374897678\n",
            "modeloGS45: 0.9333446963321389\n"
          ]
        }
      ]
    },
    {
      "cell_type": "code",
      "source": [
        "from sklearn.preprocessing import StandardScaler\n",
        "from sklearn.pipeline import Pipeline\n",
        "\n",
        "pipe = Pipeline([\n",
        "    ('scaler', StandardScaler()),\n",
        "    ('clf', KNeighborsRegressor())\n",
        "])\n",
        "\n",
        "scores = cross_validate(pipe, X, y,\n",
        "                        scoring=make_scorer(mean_squared_error, squared=False))\n",
        "rmse = np.mean(scores['test_score'])\n",
        "print(f\"KNNstd: {rmse}\")"
      ],
      "metadata": {
        "colab": {
          "base_uri": "https://localhost:8080/"
        },
        "id": "Fs8lKFfL5TGV",
        "outputId": "dd1d0064-3c76-40ed-90e2-8c82691caac7"
      },
      "execution_count": null,
      "outputs": [
        {
          "output_type": "stream",
          "name": "stdout",
          "text": [
            "KNNstd: 0.773114398863546\n"
          ]
        }
      ]
    },
    {
      "cell_type": "code",
      "source": [
        "for nome, modelo in modelos:\n",
        "  modelo.verbose = 0\n",
        "  pipe = Pipeline([\n",
        "    ('scaler', StandardScaler()),\n",
        "    ('clf', modelo)\n",
        "  ])\n",
        "  scores = cross_validate(pipe, X, y,\n",
        "                        scoring=make_scorer(mean_squared_error, squared=False))\n",
        "  rmse = np.mean(scores['test_score'])\n",
        "  print(f\"{nome}: {rmse}\")"
      ],
      "metadata": {
        "colab": {
          "base_uri": "https://localhost:8080/"
        },
        "id": "hIws_5sU6KWd",
        "outputId": "6aa95fd9-5906-4a78-ae1c-a781e73e844a"
      },
      "execution_count": null,
      "outputs": [
        {
          "output_type": "stream",
          "name": "stdout",
          "text": [
            "modeloGS15: 0.7481247829003472\n",
            "modeloGS150: 0.7517476772685898\n",
            "modeloGS45: 0.7449313603008859\n"
          ]
        }
      ]
    },
    {
      "cell_type": "code",
      "source": [
        "pipe = Pipeline([\n",
        "    ('scaler', StandardScaler()),\n",
        "    ('clf', KNeighborsRegressor())\n",
        "])\n",
        "param = {'scaler__with_mean': [True, False],\n",
        "         'clf__n_neighbors': [1, 7, 15],\n",
        "         'clf__metric': ['cosine', 'cityblock', 'euclidean']}\n",
        "modeloAninhado = GridSearchCV(pipe, param, verbose=1, cv=5,\n",
        "                      scoring=make_scorer(mean_squared_error,\n",
        "                                          greater_is_better=False,\n",
        "                                          squared=False))\n",
        "scores = cross_validate(modeloAninhado, X, y, cv=5, return_estimator=True,\n",
        "                        scoring=make_scorer(mean_squared_error, squared=False))\n",
        "np.mean(scores['test_score'])"
      ],
      "metadata": {
        "colab": {
          "base_uri": "https://localhost:8080/"
        },
        "id": "SCD7YXvT624n",
        "outputId": "d1fd9bf7-01e8-49a0-9dc5-aa1239182007"
      },
      "execution_count": null,
      "outputs": [
        {
          "output_type": "stream",
          "name": "stdout",
          "text": [
            "Fitting 5 folds for each of 18 candidates, totalling 90 fits\n",
            "Fitting 5 folds for each of 18 candidates, totalling 90 fits\n",
            "Fitting 5 folds for each of 18 candidates, totalling 90 fits\n",
            "Fitting 5 folds for each of 18 candidates, totalling 90 fits\n",
            "Fitting 5 folds for each of 18 candidates, totalling 90 fits\n"
          ]
        },
        {
          "output_type": "execute_result",
          "data": {
            "text/plain": [
              "0.7449313603008859"
            ]
          },
          "metadata": {},
          "execution_count": 13
        }
      ]
    },
    {
      "cell_type": "code",
      "source": [
        "for modelo in scores['estimator']:\n",
        "  print(modelo.best_params_)"
      ],
      "metadata": {
        "colab": {
          "base_uri": "https://localhost:8080/"
        },
        "id": "D7EkbcJw890l",
        "outputId": "eafc488d-06ce-4449-a954-d6da37ef19be"
      },
      "execution_count": null,
      "outputs": [
        {
          "output_type": "stream",
          "name": "stdout",
          "text": [
            "{'clf__metric': 'cityblock', 'clf__n_neighbors': 15, 'scaler__with_mean': True}\n",
            "{'clf__metric': 'cosine', 'clf__n_neighbors': 15, 'scaler__with_mean': True}\n",
            "{'clf__metric': 'cosine', 'clf__n_neighbors': 15, 'scaler__with_mean': True}\n",
            "{'clf__metric': 'cityblock', 'clf__n_neighbors': 15, 'scaler__with_mean': True}\n",
            "{'clf__metric': 'cityblock', 'clf__n_neighbors': 15, 'scaler__with_mean': True}\n"
          ]
        }
      ]
    }
  ]
}